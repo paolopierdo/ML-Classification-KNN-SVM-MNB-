{
 "cells": [
  {
   "cell_type": "code",
   "execution_count": 1,
   "id": "2345580e-6bae-475a-9c1c-8fe6c1602600",
   "metadata": {},
   "outputs": [],
   "source": [
    "%run setup.ipynb"
   ]
  },
  {
   "cell_type": "code",
   "execution_count": 2,
   "id": "6ad3d9aa",
   "metadata": {},
   "outputs": [],
   "source": [
    "df = pd.read_csv(f'{RESULTS_PATH}/user_support_BASE.csv')"
   ]
  },
  {
   "cell_type": "code",
   "execution_count": 4,
   "id": "bca588a4-1c12-413d-bd3a-2c30d82250f4",
   "metadata": {},
   "outputs": [
    {
     "name": "stdout",
     "output_type": "stream",
     "text": [
      "(28531, 9)\n"
     ]
    },
    {
     "data": {
      "text/html": [
       "<div>\n",
       "<style scoped>\n",
       "    .dataframe tbody tr th:only-of-type {\n",
       "        vertical-align: middle;\n",
       "    }\n",
       "\n",
       "    .dataframe tbody tr th {\n",
       "        vertical-align: top;\n",
       "    }\n",
       "\n",
       "    .dataframe thead th {\n",
       "        text-align: right;\n",
       "    }\n",
       "</style>\n",
       "<table border=\"1\" class=\"dataframe\">\n",
       "  <thead>\n",
       "    <tr style=\"text-align: right;\">\n",
       "      <th></th>\n",
       "      <th>from</th>\n",
       "      <th>to</th>\n",
       "      <th>subject</th>\n",
       "      <th>content</th>\n",
       "      <th>type</th>\n",
       "      <th>date</th>\n",
       "      <th>cc</th>\n",
       "      <th>id</th>\n",
       "      <th>parent</th>\n",
       "    </tr>\n",
       "  </thead>\n",
       "  <tbody>\n",
       "    <tr>\n",
       "      <th>0</th>\n",
       "      <td>758ec809-2969-47ef-b5db-3f9520cc7726</td>\n",
       "      <td>55b732b1-48be-4af0-b318-f7415adb04b2</td>\n",
       "      <td>Re: [user-support] URGENTE problema per access...</td>\n",
       "      <td>Ciao Marco,\\r\\n\\r\\nvogliamo provare a fare un ...</td>\n",
       "      <td>text/plain</td>\n",
       "      <td>Thu, 12 Dec 2019 16:21:51 +0100</td>\n",
       "      <td>['0327ac73-54cb-4bf6-a9b8-dce5a8b0dbe0']</td>\n",
       "      <td>&lt;26c572e8-8278-36d8-d337-0683fecaa918@cnaf.inf...</td>\n",
       "      <td>&lt;0A442A0B-2706-4A33-84D8-58681DD50DE8@gmail.com&gt;</td>\n",
       "    </tr>\n",
       "    <tr>\n",
       "      <th>1</th>\n",
       "      <td>a6e1196b-613d-4cfe-9d08-8cc5b8a0dd6b</td>\n",
       "      <td>e1e8d77c-b4cd-42e2-8957-0640d4f7a200</td>\n",
       "      <td>[user-support] Fwd: Richiesta Accesso HPC</td>\n",
       "      <td>Ciao Daniele,\\r\\n\\r\\nCi confermi la creazione ...</td>\n",
       "      <td>text/plain</td>\n",
       "      <td>Thu, 12 Jan 2023 11:21:40 +0100</td>\n",
       "      <td>['0327ac73-54cb-4bf6-a9b8-dce5a8b0dbe0']</td>\n",
       "      <td>&lt;86C8CDAF-A7B0-437E-B9DC-417D7CA5D304@cnaf.inf...</td>\n",
       "      <td>NaN</td>\n",
       "    </tr>\n",
       "    <tr>\n",
       "      <th>2</th>\n",
       "      <td>758ec809-2969-47ef-b5db-3f9520cc7726</td>\n",
       "      <td>e57948bb-7a75-4c2a-a956-a9578eb8f3c0</td>\n",
       "      <td>Re: [user-support] GERDA @ cnaf after flood</td>\n",
       "      <td>Ciao tutti,\\r\\n\\r\\nvi informo che la coda di g...</td>\n",
       "      <td>text/plain</td>\n",
       "      <td>Thu, 12 Apr 2018 10:13:33 +0200</td>\n",
       "      <td>['0327ac73-54cb-4bf6-a9b8-dce5a8b0dbe0', '7f0f...</td>\n",
       "      <td>&lt;f96583f7-31ef-21d0-0cc0-9a3a26af1708@cnaf.inf...</td>\n",
       "      <td>&lt;alpine.LRH.2.11.1804111337560.12376@gerda-log...</td>\n",
       "    </tr>\n",
       "    <tr>\n",
       "      <th>3</th>\n",
       "      <td>fae942d2-d644-4870-9792-221d17e6cd6a</td>\n",
       "      <td>baf79279-a045-4e94-8e9e-8d684694d67a</td>\n",
       "      <td>Re: [user-support] Fwd: Account CNAF</td>\n",
       "      <td>Ciao Luca,\\r\\n\\r\\nperfetto, grazie della confe...</td>\n",
       "      <td>text/plain</td>\n",
       "      <td>Mon, 26 Oct 2020 11:50:53 +0100</td>\n",
       "      <td>['0327ac73-54cb-4bf6-a9b8-dce5a8b0dbe0']</td>\n",
       "      <td>&lt;2cf128fd-be86-2f8a-2a31-8bee827a62a3@cnaf.inf...</td>\n",
       "      <td>&lt;6cb270dd-2286-fa42-6aca-f35a8903d1a0@ge.infn.it&gt;</td>\n",
       "    </tr>\n",
       "    <tr>\n",
       "      <th>4</th>\n",
       "      <td>a5564a0b-f5b0-4c91-b813-adca235331fb</td>\n",
       "      <td>69c527ce-9ce8-4e83-bb6a-1199d753f544</td>\n",
       "      <td>Re: [user-support] [Junodatacenter] JUNO StoRM...</td>\n",
       "      <td>Dear Daniele,\\n\\nThank you for letting us know...</td>\n",
       "      <td>text/plain</td>\n",
       "      <td>Fri, 25 Sep 2020 22:25:39 +0800</td>\n",
       "      <td>['']</td>\n",
       "      <td>&lt;44f18486-a63a-47ee-f0a2-b2a9550c556b@ihep.ac.cn&gt;</td>\n",
       "      <td>&lt;c03a8a8b-3b6d-466f-2a1b-561272c91f98@cnaf.inf...</td>\n",
       "    </tr>\n",
       "  </tbody>\n",
       "</table>\n",
       "</div>"
      ],
      "text/plain": [
       "                                   from                                    to  \\\n",
       "0  758ec809-2969-47ef-b5db-3f9520cc7726  55b732b1-48be-4af0-b318-f7415adb04b2   \n",
       "1  a6e1196b-613d-4cfe-9d08-8cc5b8a0dd6b  e1e8d77c-b4cd-42e2-8957-0640d4f7a200   \n",
       "2  758ec809-2969-47ef-b5db-3f9520cc7726  e57948bb-7a75-4c2a-a956-a9578eb8f3c0   \n",
       "3  fae942d2-d644-4870-9792-221d17e6cd6a  baf79279-a045-4e94-8e9e-8d684694d67a   \n",
       "4  a5564a0b-f5b0-4c91-b813-adca235331fb  69c527ce-9ce8-4e83-bb6a-1199d753f544   \n",
       "\n",
       "                                             subject  \\\n",
       "0  Re: [user-support] URGENTE problema per access...   \n",
       "1          [user-support] Fwd: Richiesta Accesso HPC   \n",
       "2        Re: [user-support] GERDA @ cnaf after flood   \n",
       "3               Re: [user-support] Fwd: Account CNAF   \n",
       "4  Re: [user-support] [Junodatacenter] JUNO StoRM...   \n",
       "\n",
       "                                             content        type  \\\n",
       "0  Ciao Marco,\\r\\n\\r\\nvogliamo provare a fare un ...  text/plain   \n",
       "1  Ciao Daniele,\\r\\n\\r\\nCi confermi la creazione ...  text/plain   \n",
       "2  Ciao tutti,\\r\\n\\r\\nvi informo che la coda di g...  text/plain   \n",
       "3  Ciao Luca,\\r\\n\\r\\nperfetto, grazie della confe...  text/plain   \n",
       "4  Dear Daniele,\\n\\nThank you for letting us know...  text/plain   \n",
       "\n",
       "                              date  \\\n",
       "0  Thu, 12 Dec 2019 16:21:51 +0100   \n",
       "1  Thu, 12 Jan 2023 11:21:40 +0100   \n",
       "2  Thu, 12 Apr 2018 10:13:33 +0200   \n",
       "3  Mon, 26 Oct 2020 11:50:53 +0100   \n",
       "4  Fri, 25 Sep 2020 22:25:39 +0800   \n",
       "\n",
       "                                                  cc  \\\n",
       "0           ['0327ac73-54cb-4bf6-a9b8-dce5a8b0dbe0']   \n",
       "1           ['0327ac73-54cb-4bf6-a9b8-dce5a8b0dbe0']   \n",
       "2  ['0327ac73-54cb-4bf6-a9b8-dce5a8b0dbe0', '7f0f...   \n",
       "3           ['0327ac73-54cb-4bf6-a9b8-dce5a8b0dbe0']   \n",
       "4                                               ['']   \n",
       "\n",
       "                                                  id  \\\n",
       "0  <26c572e8-8278-36d8-d337-0683fecaa918@cnaf.inf...   \n",
       "1  <86C8CDAF-A7B0-437E-B9DC-417D7CA5D304@cnaf.inf...   \n",
       "2  <f96583f7-31ef-21d0-0cc0-9a3a26af1708@cnaf.inf...   \n",
       "3  <2cf128fd-be86-2f8a-2a31-8bee827a62a3@cnaf.inf...   \n",
       "4  <44f18486-a63a-47ee-f0a2-b2a9550c556b@ihep.ac.cn>   \n",
       "\n",
       "                                              parent  \n",
       "0   <0A442A0B-2706-4A33-84D8-58681DD50DE8@gmail.com>  \n",
       "1                                                NaN  \n",
       "2  <alpine.LRH.2.11.1804111337560.12376@gerda-log...  \n",
       "3  <6cb270dd-2286-fa42-6aca-f35a8903d1a0@ge.infn.it>  \n",
       "4  <c03a8a8b-3b6d-466f-2a1b-561272c91f98@cnaf.inf...  "
      ]
     },
     "execution_count": 4,
     "metadata": {},
     "output_type": "execute_result"
    }
   ],
   "source": [
    "print(df.shape)\n",
    "df.head()"
   ]
  },
  {
   "cell_type": "code",
   "execution_count": 5,
   "id": "4f37dc17-7a90-41a3-be41-eee291798899",
   "metadata": {
    "scrolled": true
   },
   "outputs": [
    {
     "name": "stdout",
     "output_type": "stream",
     "text": [
      "Non-string values in 'subject': Series([], Name: subject, dtype: object)\n",
      "Non-string values in 'content': 490      NaN\n",
      "510      NaN\n",
      "894      NaN\n",
      "1942     NaN\n",
      "2575     NaN\n",
      "4040     NaN\n",
      "4300     NaN\n",
      "4996     NaN\n",
      "5838     NaN\n",
      "7525     NaN\n",
      "8506     NaN\n",
      "9431     NaN\n",
      "11354    NaN\n",
      "11585    NaN\n",
      "12078    NaN\n",
      "12954    NaN\n",
      "15677    NaN\n",
      "15973    NaN\n",
      "15980    NaN\n",
      "18326    NaN\n",
      "20937    NaN\n",
      "23685    NaN\n",
      "26926    NaN\n",
      "27018    NaN\n",
      "27234    NaN\n",
      "Name: content, dtype: object\n"
     ]
    }
   ],
   "source": [
    "# we are checking the missing values in the content or in the subject of the emails \n",
    "non_string_subject = df[~df['subject'].apply(lambda x: isinstance(x, str))]['subject']\n",
    "non_string_content = df[~df['content'].apply(lambda x: isinstance(x, str))]['content']\n",
    "\n",
    "print(\"Non-string values in 'subject':\", non_string_subject)\n",
    "print(\"Non-string values in 'content':\", non_string_content)"
   ]
  },
  {
   "cell_type": "markdown",
   "id": "d0e31e27-3fed-4bd7-bba4-b9d78e06707e",
   "metadata": {},
   "source": [
    "## We check how many emails have the label tag"
   ]
  },
  {
   "cell_type": "code",
   "execution_count": 6,
   "id": "8da45bd5-45c9-4043-8556-69f2d016ff93",
   "metadata": {},
   "outputs": [
    {
     "name": "stdout",
     "output_type": "stream",
     "text": [
      "Numero di email con [CNAF farming] nel subject: 1454\n"
     ]
    }
   ],
   "source": [
    "count_cnaf_farming = df[df['subject'].str.contains(r'\\[CNAF farming\\]')].shape[0]\n",
    "print(\"Numero di email con [CNAF farming] nel subject:\", count_cnaf_farming)"
   ]
  },
  {
   "cell_type": "code",
   "execution_count": 7,
   "id": "6913bd06-d361-4b55-b199-54c55b65a5c3",
   "metadata": {},
   "outputs": [
    {
     "name": "stdout",
     "output_type": "stream",
     "text": [
      "Numero di email con [CNAF net] nel subject: 245\n"
     ]
    }
   ],
   "source": [
    "count_cnaf_farming = df[df['subject'].str.contains(r'\\[CNAF net\\]')].shape[0]\n",
    "print(\"Numero di email con [CNAF net] nel subject:\", count_cnaf_farming)"
   ]
  },
  {
   "cell_type": "code",
   "execution_count": 8,
   "id": "4c574000-5bf0-46a9-bf9f-807106af2436",
   "metadata": {},
   "outputs": [
    {
     "name": "stdout",
     "output_type": "stream",
     "text": [
      "Numero di email con [CNAF storage] nel subject: 776\n"
     ]
    }
   ],
   "source": [
    "count_cnaf_farming = df[df['subject'].str.contains(r'\\[CNAF storage\\]')].shape[0]\n",
    "print(\"Numero di email con [CNAF storage] nel subject:\", count_cnaf_farming)"
   ]
  },
  {
   "cell_type": "code",
   "execution_count": 9,
   "id": "4dcc8547-3ccd-4466-b9b2-cbb59556ef7a",
   "metadata": {},
   "outputs": [
    {
     "name": "stdout",
     "output_type": "stream",
     "text": [
      "Numero di email con [user-support] nel subject: 27494\n"
     ]
    }
   ],
   "source": [
    "count_user_support = df[df['subject'].str.contains(r'\\[user-support\\]')].shape[0]\n",
    "print(\"Numero di email con [user-support] nel subject:\", count_user_support)"
   ]
  },
  {
   "cell_type": "code",
   "execution_count": 10,
   "id": "ba878fd1",
   "metadata": {},
   "outputs": [
    {
     "name": "stdout",
     "output_type": "stream",
     "text": [
      "Numero di email con 'sysop' nel subject: 7\n",
      "Numero di email con 'sysop' nel content: 1391\n",
      "Numero totale di email con 'sysop' nel subject o nel content: 1398\n"
     ]
    }
   ],
   "source": [
    "df['content'] = df['content'].fillna('')\n",
    "# vediamo quante email contengono la stringa \"[sysop]\" nel campo \"subject\"\n",
    "count_sysop_subject = df[df['subject'].str.contains(r'sysop', case=False)].shape[0]\n",
    "count_sysop_content = df[df['content'].str.contains(r'sysop', case=False)].shape[0]\n",
    " \n",
    "print(\"Numero di email con 'sysop' nel subject:\", count_sysop_subject)\n",
    "print(\"Numero di email con 'sysop' nel content:\", count_sysop_content)\n",
    " \n",
    "# totale presenze sysop\n",
    "total_count_sysop = count_sysop_subject + count_sysop_content\n",
    "print(\"Numero totale di email con 'sysop' nel subject o nel content:\", total_count_sysop)"
   ]
  },
  {
   "cell_type": "code",
   "execution_count": 11,
   "id": "771d5c78-1067-4994-8452-2cf630d12a8b",
   "metadata": {},
   "outputs": [
    {
     "name": "stdout",
     "output_type": "stream",
     "text": [
      "Numero di email con 'sysop' nel subject e 'sysop' nel content contemporaneamente: 3\n"
     ]
    }
   ],
   "source": [
    "count_both_sysop = df[df['subject'].str.contains(r'sysop', case=False) & df['content'].str.contains(r'sysop', case=False)].shape[0]\n",
    "print(\"Numero di email con 'sysop' nel subject e 'sysop' nel content contemporaneamente:\", count_both_sysop)"
   ]
  },
  {
   "cell_type": "markdown",
   "id": "1157696e-99c2-4c54-854f-010b59d3ccd0",
   "metadata": {},
   "source": [
    "## Define the function to categorize emails "
   ]
  },
  {
   "cell_type": "code",
   "execution_count": 12,
   "id": "b2b2f2fe-e590-4927-823b-1701541e1e0b",
   "metadata": {},
   "outputs": [],
   "source": [
    "def categorize_email(email):\n",
    "    # managing NaN in the \"content\"\n",
    "    if not pd.notna(email[\"content\"]):\n",
    "        # if content is NaN, call the categorize_subject function, so use just the subject to categorize\n",
    "        return categorize_subject(email[\"subject\"])\n",
    "    \n",
    "    if re.search(r'sysop', email[\"content\"], re.IGNORECASE) or re.search(r'sysop', email[\"subject\"], re.IGNORECASE):\n",
    "        return \"sysop\"\n",
    "\n",
    "    # Check for mailing list tags in the subject or content\n",
    "    tags_subject = re.findall(r'\\[([^]]+)\\]', email[\"subject\"])\n",
    "    tags_content = re.findall(r'\\[([^]]+)\\]', email[\"content\"])\n",
    "    \n",
    "    all_tags = tags_subject + tags_content\n",
    "    \n",
    "    for tag in all_tags:\n",
    "        if tag in [\"CNAF storage\", \"CNAF farming\", \"CNAF net\"]:\n",
    "            return tag\n",
    "    \n",
    "    return \"without tag\"\n",
    "\n",
    "def categorize_subject(subject):\n",
    "    if \"CNAF storage\" in subject:\n",
    "        return \"CNAF storage\"\n",
    "    if \"CNAF farming\" in subject:\n",
    "        return \"CNAF farming\"\n",
    "    if \"CNAF net\" in subject:\n",
    "        return \"CNAF net\"\n",
    "    return \"without tag\""
   ]
  },
  {
   "cell_type": "code",
   "execution_count": 13,
   "id": "77be97d5-03be-4d10-8161-57f4d7dac100",
   "metadata": {},
   "outputs": [
    {
     "data": {
      "text/plain": [
       "<bound method NDFrame.head of 0        without tag\n",
       "1        without tag\n",
       "2        without tag\n",
       "3        without tag\n",
       "4        without tag\n",
       "            ...     \n",
       "28526    without tag\n",
       "28527    without tag\n",
       "28528    without tag\n",
       "28529    without tag\n",
       "28530    without tag\n",
       "Name: label, Length: 28531, dtype: object>"
      ]
     },
     "execution_count": 13,
     "metadata": {},
     "output_type": "execute_result"
    }
   ],
   "source": [
    "df['label'] = df.apply(categorize_email, axis = 1)\n",
    "df['label'].head"
   ]
  },
  {
   "cell_type": "code",
   "execution_count": 14,
   "id": "837592c2-8e4d-4c6f-8ec2-9137c825001d",
   "metadata": {},
   "outputs": [
    {
     "name": "stdout",
     "output_type": "stream",
     "text": [
      "label\n",
      "without tag     24822\n",
      "CNAF farming     1425\n",
      "sysop            1395\n",
      "CNAF storage      729\n",
      "CNAF net          160\n",
      "Name: count, dtype: int64\n"
     ]
    }
   ],
   "source": [
    "class_counts = df['label'].value_counts()\n",
    "print(class_counts)"
   ]
  },
  {
   "cell_type": "markdown",
   "id": "1322a3fe-1050-429b-938b-216cd3e538a4",
   "metadata": {},
   "source": [
    "These are the categorized emails. The dataset is unbalanced: for the CNAF net we have just 160 emails.\n",
    "For the three categories which have 'CNAF' in the label tag, there are less emails than previuosly because the function assigns first of all 'sysop' labels so if an email has double category, it will have 'sysop' tag."
   ]
  },
  {
   "cell_type": "code",
   "execution_count": 15,
   "id": "bdb26f1f-2603-4f2a-a769-cd0a37d4e32f",
   "metadata": {},
   "outputs": [
    {
     "data": {
      "text/html": [
       "<div>\n",
       "<style scoped>\n",
       "    .dataframe tbody tr th:only-of-type {\n",
       "        vertical-align: middle;\n",
       "    }\n",
       "\n",
       "    .dataframe tbody tr th {\n",
       "        vertical-align: top;\n",
       "    }\n",
       "\n",
       "    .dataframe thead th {\n",
       "        text-align: right;\n",
       "    }\n",
       "</style>\n",
       "<table border=\"1\" class=\"dataframe\">\n",
       "  <thead>\n",
       "    <tr style=\"text-align: right;\">\n",
       "      <th></th>\n",
       "      <th>from</th>\n",
       "      <th>to</th>\n",
       "      <th>subject</th>\n",
       "      <th>content</th>\n",
       "      <th>type</th>\n",
       "      <th>date</th>\n",
       "      <th>cc</th>\n",
       "      <th>id</th>\n",
       "      <th>parent</th>\n",
       "      <th>label</th>\n",
       "    </tr>\n",
       "  </thead>\n",
       "  <tbody>\n",
       "    <tr>\n",
       "      <th>0</th>\n",
       "      <td>758ec809-2969-47ef-b5db-3f9520cc7726</td>\n",
       "      <td>55b732b1-48be-4af0-b318-f7415adb04b2</td>\n",
       "      <td>Re: [user-support] URGENTE problema per access...</td>\n",
       "      <td>Ciao Marco,\\r\\n\\r\\nvogliamo provare a fare un ...</td>\n",
       "      <td>text/plain</td>\n",
       "      <td>Thu, 12 Dec 2019 16:21:51 +0100</td>\n",
       "      <td>['0327ac73-54cb-4bf6-a9b8-dce5a8b0dbe0']</td>\n",
       "      <td>&lt;26c572e8-8278-36d8-d337-0683fecaa918@cnaf.inf...</td>\n",
       "      <td>&lt;0A442A0B-2706-4A33-84D8-58681DD50DE8@gmail.com&gt;</td>\n",
       "      <td>without tag</td>\n",
       "    </tr>\n",
       "    <tr>\n",
       "      <th>1</th>\n",
       "      <td>a6e1196b-613d-4cfe-9d08-8cc5b8a0dd6b</td>\n",
       "      <td>e1e8d77c-b4cd-42e2-8957-0640d4f7a200</td>\n",
       "      <td>[user-support] Fwd: Richiesta Accesso HPC</td>\n",
       "      <td>Ciao Daniele,\\r\\n\\r\\nCi confermi la creazione ...</td>\n",
       "      <td>text/plain</td>\n",
       "      <td>Thu, 12 Jan 2023 11:21:40 +0100</td>\n",
       "      <td>['0327ac73-54cb-4bf6-a9b8-dce5a8b0dbe0']</td>\n",
       "      <td>&lt;86C8CDAF-A7B0-437E-B9DC-417D7CA5D304@cnaf.inf...</td>\n",
       "      <td>NaN</td>\n",
       "      <td>without tag</td>\n",
       "    </tr>\n",
       "    <tr>\n",
       "      <th>2</th>\n",
       "      <td>758ec809-2969-47ef-b5db-3f9520cc7726</td>\n",
       "      <td>e57948bb-7a75-4c2a-a956-a9578eb8f3c0</td>\n",
       "      <td>Re: [user-support] GERDA @ cnaf after flood</td>\n",
       "      <td>Ciao tutti,\\r\\n\\r\\nvi informo che la coda di g...</td>\n",
       "      <td>text/plain</td>\n",
       "      <td>Thu, 12 Apr 2018 10:13:33 +0200</td>\n",
       "      <td>['0327ac73-54cb-4bf6-a9b8-dce5a8b0dbe0', '7f0f...</td>\n",
       "      <td>&lt;f96583f7-31ef-21d0-0cc0-9a3a26af1708@cnaf.inf...</td>\n",
       "      <td>&lt;alpine.LRH.2.11.1804111337560.12376@gerda-log...</td>\n",
       "      <td>without tag</td>\n",
       "    </tr>\n",
       "  </tbody>\n",
       "</table>\n",
       "</div>"
      ],
      "text/plain": [
       "                                   from                                    to  \\\n",
       "0  758ec809-2969-47ef-b5db-3f9520cc7726  55b732b1-48be-4af0-b318-f7415adb04b2   \n",
       "1  a6e1196b-613d-4cfe-9d08-8cc5b8a0dd6b  e1e8d77c-b4cd-42e2-8957-0640d4f7a200   \n",
       "2  758ec809-2969-47ef-b5db-3f9520cc7726  e57948bb-7a75-4c2a-a956-a9578eb8f3c0   \n",
       "\n",
       "                                             subject  \\\n",
       "0  Re: [user-support] URGENTE problema per access...   \n",
       "1          [user-support] Fwd: Richiesta Accesso HPC   \n",
       "2        Re: [user-support] GERDA @ cnaf after flood   \n",
       "\n",
       "                                             content        type  \\\n",
       "0  Ciao Marco,\\r\\n\\r\\nvogliamo provare a fare un ...  text/plain   \n",
       "1  Ciao Daniele,\\r\\n\\r\\nCi confermi la creazione ...  text/plain   \n",
       "2  Ciao tutti,\\r\\n\\r\\nvi informo che la coda di g...  text/plain   \n",
       "\n",
       "                              date  \\\n",
       "0  Thu, 12 Dec 2019 16:21:51 +0100   \n",
       "1  Thu, 12 Jan 2023 11:21:40 +0100   \n",
       "2  Thu, 12 Apr 2018 10:13:33 +0200   \n",
       "\n",
       "                                                  cc  \\\n",
       "0           ['0327ac73-54cb-4bf6-a9b8-dce5a8b0dbe0']   \n",
       "1           ['0327ac73-54cb-4bf6-a9b8-dce5a8b0dbe0']   \n",
       "2  ['0327ac73-54cb-4bf6-a9b8-dce5a8b0dbe0', '7f0f...   \n",
       "\n",
       "                                                  id  \\\n",
       "0  <26c572e8-8278-36d8-d337-0683fecaa918@cnaf.inf...   \n",
       "1  <86C8CDAF-A7B0-437E-B9DC-417D7CA5D304@cnaf.inf...   \n",
       "2  <f96583f7-31ef-21d0-0cc0-9a3a26af1708@cnaf.inf...   \n",
       "\n",
       "                                              parent        label  \n",
       "0   <0A442A0B-2706-4A33-84D8-58681DD50DE8@gmail.com>  without tag  \n",
       "1                                                NaN  without tag  \n",
       "2  <alpine.LRH.2.11.1804111337560.12376@gerda-log...  without tag  "
      ]
     },
     "execution_count": 15,
     "metadata": {},
     "output_type": "execute_result"
    }
   ],
   "source": [
    "df[:3]"
   ]
  },
  {
   "cell_type": "code",
   "execution_count": 16,
   "id": "47d3f6aa-c064-4d38-b038-e91299b409f0",
   "metadata": {},
   "outputs": [],
   "source": [
    "df.to_csv(f'{RESULTS_PATH}/user_support2.csv', index=False)"
   ]
  }
 ],
 "metadata": {
  "kernelspec": {
   "display_name": "Python 3 (ipykernel)",
   "language": "python",
   "name": "python3"
  },
  "language_info": {
   "codemirror_mode": {
    "name": "ipython",
    "version": 3
   },
   "file_extension": ".py",
   "mimetype": "text/x-python",
   "name": "python",
   "nbconvert_exporter": "python",
   "pygments_lexer": "ipython3",
   "version": "3.11.5"
  }
 },
 "nbformat": 4,
 "nbformat_minor": 5
}
