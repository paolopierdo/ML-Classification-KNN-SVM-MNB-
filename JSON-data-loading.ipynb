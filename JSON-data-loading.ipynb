{
 "cells": [
  {
   "cell_type": "code",
   "execution_count": 1,
   "id": "ed6d0e57",
   "metadata": {},
   "outputs": [],
   "source": [
    "%run setup.ipynb\n",
    "import json"
   ]
  },
  {
   "cell_type": "code",
   "execution_count": 2,
   "id": "138a07bb",
   "metadata": {},
   "outputs": [],
   "source": [
    "def load_json_files():\n",
    "    data_list = []\n",
    "    for subdir in os.listdir(f\"{DATA_PATH}\"):\n",
    "        path = f\"{DATA_PATH}/{subdir}/\"\n",
    "        if os.path.isdir(path):\n",
    "            for file in os.listdir(path):\n",
    "                file_path = f'{path}/{file}'\n",
    "                if '.json' in file_path:\n",
    "                    with open(file_path, 'r') as json_file:\n",
    "                        try:\n",
    "                            data = json.load(json_file)\n",
    "                            data_list.append(data)\n",
    "                        except json.JSONDecodeError:\n",
    "                            print(f'Parsin error for file: {file_path}')\n",
    "    return data_list"
   ]
  },
  {
   "cell_type": "code",
   "execution_count": 3,
   "id": "c657dbfb",
   "metadata": {},
   "outputs": [],
   "source": [
    "df = pd.DataFrame(load_json_files())"
   ]
  },
  {
   "cell_type": "code",
   "execution_count": 4,
   "id": "25f78d63",
   "metadata": {},
   "outputs": [
    {
     "data": {
      "text/html": [
       "<div>\n",
       "<style scoped>\n",
       "    .dataframe tbody tr th:only-of-type {\n",
       "        vertical-align: middle;\n",
       "    }\n",
       "\n",
       "    .dataframe tbody tr th {\n",
       "        vertical-align: top;\n",
       "    }\n",
       "\n",
       "    .dataframe thead th {\n",
       "        text-align: right;\n",
       "    }\n",
       "</style>\n",
       "<table border=\"1\" class=\"dataframe\">\n",
       "  <thead>\n",
       "    <tr style=\"text-align: right;\">\n",
       "      <th></th>\n",
       "      <th>from</th>\n",
       "      <th>to</th>\n",
       "      <th>subject</th>\n",
       "      <th>content</th>\n",
       "      <th>type</th>\n",
       "      <th>date</th>\n",
       "      <th>cc</th>\n",
       "      <th>id</th>\n",
       "      <th>parent</th>\n",
       "    </tr>\n",
       "  </thead>\n",
       "  <tbody>\n",
       "    <tr>\n",
       "      <th>0</th>\n",
       "      <td>758ec809-2969-47ef-b5db-3f9520cc7726</td>\n",
       "      <td>55b732b1-48be-4af0-b318-f7415adb04b2</td>\n",
       "      <td>Re: [user-support] URGENTE problema per access...</td>\n",
       "      <td>Ciao Marco,\\r\\n\\r\\nvogliamo provare a fare un ...</td>\n",
       "      <td>text/plain</td>\n",
       "      <td>Thu, 12 Dec 2019 16:21:51 +0100</td>\n",
       "      <td>[0327ac73-54cb-4bf6-a9b8-dce5a8b0dbe0]</td>\n",
       "      <td>&lt;26c572e8-8278-36d8-d337-0683fecaa918@cnaf.inf...</td>\n",
       "      <td>&lt;0A442A0B-2706-4A33-84D8-58681DD50DE8@gmail.com&gt;</td>\n",
       "    </tr>\n",
       "    <tr>\n",
       "      <th>1</th>\n",
       "      <td>a6e1196b-613d-4cfe-9d08-8cc5b8a0dd6b</td>\n",
       "      <td>e1e8d77c-b4cd-42e2-8957-0640d4f7a200</td>\n",
       "      <td>[user-support] Fwd: Richiesta Accesso HPC</td>\n",
       "      <td>Ciao Daniele,\\r\\n\\r\\nCi confermi la creazione ...</td>\n",
       "      <td>text/plain</td>\n",
       "      <td>Thu, 12 Jan 2023 11:21:40 +0100</td>\n",
       "      <td>[0327ac73-54cb-4bf6-a9b8-dce5a8b0dbe0]</td>\n",
       "      <td>&lt;86C8CDAF-A7B0-437E-B9DC-417D7CA5D304@cnaf.inf...</td>\n",
       "      <td>None</td>\n",
       "    </tr>\n",
       "    <tr>\n",
       "      <th>2</th>\n",
       "      <td>758ec809-2969-47ef-b5db-3f9520cc7726</td>\n",
       "      <td>e57948bb-7a75-4c2a-a956-a9578eb8f3c0</td>\n",
       "      <td>Re: [user-support] GERDA @ cnaf after flood</td>\n",
       "      <td>Ciao tutti,\\r\\n\\r\\nvi informo che la coda di g...</td>\n",
       "      <td>text/plain</td>\n",
       "      <td>Thu, 12 Apr 2018 10:13:33 +0200</td>\n",
       "      <td>[0327ac73-54cb-4bf6-a9b8-dce5a8b0dbe0, 7f0fb23...</td>\n",
       "      <td>&lt;f96583f7-31ef-21d0-0cc0-9a3a26af1708@cnaf.inf...</td>\n",
       "      <td>&lt;alpine.LRH.2.11.1804111337560.12376@gerda-log...</td>\n",
       "    </tr>\n",
       "    <tr>\n",
       "      <th>3</th>\n",
       "      <td>fae942d2-d644-4870-9792-221d17e6cd6a</td>\n",
       "      <td>baf79279-a045-4e94-8e9e-8d684694d67a</td>\n",
       "      <td>Re: [user-support] Fwd: Account CNAF</td>\n",
       "      <td>Ciao Luca,\\r\\n\\r\\nperfetto, grazie della confe...</td>\n",
       "      <td>text/plain</td>\n",
       "      <td>Mon, 26 Oct 2020 11:50:53 +0100</td>\n",
       "      <td>[0327ac73-54cb-4bf6-a9b8-dce5a8b0dbe0]</td>\n",
       "      <td>&lt;2cf128fd-be86-2f8a-2a31-8bee827a62a3@cnaf.inf...</td>\n",
       "      <td>&lt;6cb270dd-2286-fa42-6aca-f35a8903d1a0@ge.infn.it&gt;</td>\n",
       "    </tr>\n",
       "    <tr>\n",
       "      <th>4</th>\n",
       "      <td>a5564a0b-f5b0-4c91-b813-adca235331fb</td>\n",
       "      <td>69c527ce-9ce8-4e83-bb6a-1199d753f544</td>\n",
       "      <td>Re: [user-support] [Junodatacenter] JUNO StoRM...</td>\n",
       "      <td>Dear Daniele,\\n\\nThank you for letting us know...</td>\n",
       "      <td>text/plain</td>\n",
       "      <td>Fri, 25 Sep 2020 22:25:39 +0800</td>\n",
       "      <td>[]</td>\n",
       "      <td>&lt;44f18486-a63a-47ee-f0a2-b2a9550c556b@ihep.ac.cn&gt;</td>\n",
       "      <td>&lt;c03a8a8b-3b6d-466f-2a1b-561272c91f98@cnaf.inf...</td>\n",
       "    </tr>\n",
       "  </tbody>\n",
       "</table>\n",
       "</div>"
      ],
      "text/plain": [
       "                                   from                                    to  \\\n",
       "0  758ec809-2969-47ef-b5db-3f9520cc7726  55b732b1-48be-4af0-b318-f7415adb04b2   \n",
       "1  a6e1196b-613d-4cfe-9d08-8cc5b8a0dd6b  e1e8d77c-b4cd-42e2-8957-0640d4f7a200   \n",
       "2  758ec809-2969-47ef-b5db-3f9520cc7726  e57948bb-7a75-4c2a-a956-a9578eb8f3c0   \n",
       "3  fae942d2-d644-4870-9792-221d17e6cd6a  baf79279-a045-4e94-8e9e-8d684694d67a   \n",
       "4  a5564a0b-f5b0-4c91-b813-adca235331fb  69c527ce-9ce8-4e83-bb6a-1199d753f544   \n",
       "\n",
       "                                             subject  \\\n",
       "0  Re: [user-support] URGENTE problema per access...   \n",
       "1          [user-support] Fwd: Richiesta Accesso HPC   \n",
       "2        Re: [user-support] GERDA @ cnaf after flood   \n",
       "3               Re: [user-support] Fwd: Account CNAF   \n",
       "4  Re: [user-support] [Junodatacenter] JUNO StoRM...   \n",
       "\n",
       "                                             content        type  \\\n",
       "0  Ciao Marco,\\r\\n\\r\\nvogliamo provare a fare un ...  text/plain   \n",
       "1  Ciao Daniele,\\r\\n\\r\\nCi confermi la creazione ...  text/plain   \n",
       "2  Ciao tutti,\\r\\n\\r\\nvi informo che la coda di g...  text/plain   \n",
       "3  Ciao Luca,\\r\\n\\r\\nperfetto, grazie della confe...  text/plain   \n",
       "4  Dear Daniele,\\n\\nThank you for letting us know...  text/plain   \n",
       "\n",
       "                              date  \\\n",
       "0  Thu, 12 Dec 2019 16:21:51 +0100   \n",
       "1  Thu, 12 Jan 2023 11:21:40 +0100   \n",
       "2  Thu, 12 Apr 2018 10:13:33 +0200   \n",
       "3  Mon, 26 Oct 2020 11:50:53 +0100   \n",
       "4  Fri, 25 Sep 2020 22:25:39 +0800   \n",
       "\n",
       "                                                  cc  \\\n",
       "0             [0327ac73-54cb-4bf6-a9b8-dce5a8b0dbe0]   \n",
       "1             [0327ac73-54cb-4bf6-a9b8-dce5a8b0dbe0]   \n",
       "2  [0327ac73-54cb-4bf6-a9b8-dce5a8b0dbe0, 7f0fb23...   \n",
       "3             [0327ac73-54cb-4bf6-a9b8-dce5a8b0dbe0]   \n",
       "4                                                 []   \n",
       "\n",
       "                                                  id  \\\n",
       "0  <26c572e8-8278-36d8-d337-0683fecaa918@cnaf.inf...   \n",
       "1  <86C8CDAF-A7B0-437E-B9DC-417D7CA5D304@cnaf.inf...   \n",
       "2  <f96583f7-31ef-21d0-0cc0-9a3a26af1708@cnaf.inf...   \n",
       "3  <2cf128fd-be86-2f8a-2a31-8bee827a62a3@cnaf.inf...   \n",
       "4  <44f18486-a63a-47ee-f0a2-b2a9550c556b@ihep.ac.cn>   \n",
       "\n",
       "                                              parent  \n",
       "0   <0A442A0B-2706-4A33-84D8-58681DD50DE8@gmail.com>  \n",
       "1                                               None  \n",
       "2  <alpine.LRH.2.11.1804111337560.12376@gerda-log...  \n",
       "3  <6cb270dd-2286-fa42-6aca-f35a8903d1a0@ge.infn.it>  \n",
       "4  <c03a8a8b-3b6d-466f-2a1b-561272c91f98@cnaf.inf...  "
      ]
     },
     "execution_count": 4,
     "metadata": {},
     "output_type": "execute_result"
    }
   ],
   "source": [
    "df.head()"
   ]
  },
  {
   "cell_type": "code",
   "execution_count": 5,
   "id": "0dfef606",
   "metadata": {
    "scrolled": true
   },
   "outputs": [
    {
     "data": {
      "text/plain": [
       "(28531, 9)"
      ]
     },
     "execution_count": 5,
     "metadata": {},
     "output_type": "execute_result"
    }
   ],
   "source": [
    "df.shape"
   ]
  },
  {
   "cell_type": "code",
   "execution_count": 6,
   "id": "562272e4",
   "metadata": {},
   "outputs": [],
   "source": [
    "df.to_csv(f'{RESULTS_PATH}/user_support.csv', index=False)"
   ]
  }
 ],
 "metadata": {
  "kernelspec": {
   "display_name": "Python 3 (ipykernel)",
   "language": "python",
   "name": "python3"
  },
  "language_info": {
   "codemirror_mode": {
    "name": "ipython",
    "version": 3
   },
   "file_extension": ".py",
   "mimetype": "text/x-python",
   "name": "python",
   "nbconvert_exporter": "python",
   "pygments_lexer": "ipython3",
   "version": "3.11.5"
  }
 },
 "nbformat": 4,
 "nbformat_minor": 5
}
